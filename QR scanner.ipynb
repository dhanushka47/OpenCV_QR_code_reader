{
 "cells": [
  {
   "cell_type": "code",
   "execution_count": 5,
   "id": "d44f8d11",
   "metadata": {},
   "outputs": [],
   "source": [
    "import cv2 as cv\n",
    "import cv2\n",
    "import numpy as np\n",
    "import pyzbar.pyzbar as pyzbar\n",
    "\n",
    "image = cv2.imread(\"sample.jpg\")\n",
    "\n",
    "\n",
    "decodedObjects = pyzbar.decode(image)\n",
    "\n",
    "for obj in decodedObjects:\n",
    "    print(\"Type:\", obj.type)\n",
    "    print(\"Data: \", obj.data, \"\\n\")\n",
    "    \n",
    "    \n",
    "    "
   ]
  },
  {
   "cell_type": "code",
   "execution_count": null,
   "id": "4b8601cc",
   "metadata": {},
   "outputs": [],
   "source": []
  }
 ],
 "metadata": {
  "kernelspec": {
   "display_name": "Python 3 (ipykernel)",
   "language": "python",
   "name": "python3"
  },
  "language_info": {
   "codemirror_mode": {
    "name": "ipython",
    "version": 3
   },
   "file_extension": ".py",
   "mimetype": "text/x-python",
   "name": "python",
   "nbconvert_exporter": "python",
   "pygments_lexer": "ipython3",
   "version": "3.9.7"
  }
 },
 "nbformat": 4,
 "nbformat_minor": 5
}
